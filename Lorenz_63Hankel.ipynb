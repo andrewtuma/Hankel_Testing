{
 "cells": [
  {
   "cell_type": "code",
   "execution_count": null,
   "metadata": {},
   "outputs": [],
   "source": [
    "%matplotlib inline\n",
    "import numpy as np\n",
    "import matplotlib.pyplot as plt\n",
    "from mpl_toolkits import mplot3d"
   ]
  },
  {
   "cell_type": "code",
   "execution_count": null,
   "metadata": {},
   "outputs": [],
   "source": [
    "def lorentz(lhs,sigma,rval,bval):\n",
    "    y1, y2, y3 = lhs[0], lhs[1], lhs[2]\n",
    "    rhs = np.zeros(3, dtype=np.float64)\n",
    "    rhs[0] = sigma*(y2-y1)\n",
    "    rhs[1] = rval*y1-y2-y1*y3\n",
    "    rhs[2] = -bval*y3 + y1*y2\n",
    "    return rhs\n",
    "\n",
    "# 4th order Runge-Kutta timestepper\n",
    "def rk4(x0,f,dt):\n",
    "    k1 = dt*f(x0)\n",
    "    k2 = dt*f(x0 + k1/2.)\n",
    "    k3 = dt*f(x0 + k2/2.)\n",
    "    k4 = dt*f(x0 + k3)\n",
    "    return x0 + (k1 + 2.*k2 + 2.*k3 + k4)/6.\n",
    "\n",
    "# Time stepping scheme for solving x' = f(x) for t0<=t<=tf with time step dt. \n",
    "def timestepper(x0,t0,tf,dt,f):\n",
    "    ndim = np.size(x0)\n",
    "    nsteps = np.int((tf-t0)/dt)\n",
    "    solpath = np.zeros((ndim,nsteps+1),dtype=np.float64)\n",
    "    solpath[:,0] = x0\n",
    "    for jj in range(nsteps):\n",
    "        solpath[:,jj+1] = rk4(solpath[:,jj],f,dt)\n",
    "    return solpath"
   ]
  },
  {
   "cell_type": "code",
   "execution_count": null,
   "metadata": {},
   "outputs": [],
   "source": [
    "def dmd_cmp(gtot, thrshhld, window, ndsets):\n",
    "    nrws, nclmns = gtot.shape\n",
    "    gm = np.zeros((nrws, ndsets*(window-1)), dtype=np.float64)\n",
    "    gp = np.zeros((nrws, ndsets*(window-1)), dtype=np.float64)\n",
    "    # Perform DMD method.  Note, we need to be careful about how we break the concantenated Hankel matrix apart.  \n",
    "    for ll in range(ndsets):\n",
    "        gm[:, ll*(window-1):(ll+1)*(window-1)] = gtot[:, ll*window:(ll+1)*window-1]\n",
    "        gp[:, ll*(window-1):(ll+1)*(window-1)] = gtot[:, 1+ll*window:(ll+1)*window]\n",
    "\n",
    "    u, s, vh  = np.linalg.svd(gm, full_matrices=False)\n",
    "    sm = np.max(s)\n",
    "    indskp = np.log10(s/sm) > -thrshhld\n",
    "    sr = s[indskp]\n",
    "    ur = u[:, indskp]\n",
    "    v = np.conj(vh.T)\n",
    "    vr = v[:, indskp]\n",
    "    kmat = gp @ vr @ np.diag(1. / sr) @ np.conj(ur.T)\n",
    "    evls, evcs = np.linalg.eig(kmat)\n",
    "    phim = (np.linalg.solve(evcs, gm))\n",
    "    return evls, phim, evcs\n",
    "\n",
    "def hankel_matrix(tseries,window):\n",
    "    NT = np.size(tseries)\n",
    "    nclmns = NT-(window-1)\n",
    "    hmat = np.zeros((window,nclmns),dtype=np.float64)\n",
    "    for jj in range(nclmns):\n",
    "        hmat[:,jj] = tseries[jj:(jj+window)]\n",
    "    sclfac = np.linalg.norm(hmat[:,-1])\n",
    "    return [hmat, sclfac]\n",
    "\n",
    "def hankel_dmd(rawdata, obs, window, thrshhld):\n",
    "    NT = np.shape(rawdata[0])[1]\n",
    "    nclmns = NT-(window-1)\n",
    "    nobs = len(obs)\n",
    "    ndsets = len(rawdata)\n",
    "    \n",
    "    hankel_mats = np.zeros((nclmns*nobs,window*ndsets),dtype=np.float64)\n",
    "    for ll in range(ndsets):\n",
    "        for jj in range(nobs):\n",
    "            tseries = obs[jj](rawdata[ll])\n",
    "            hmat, sclfac = hankel_matrix(tseries,window)\n",
    "            if jj == 0:\n",
    "                usclfac = sclfac     \n",
    "            hankel_mats[jj*nclmns:(jj+1)*nclmns,ll*window:(ll+1)*window] = usclfac/sclfac * hmat.T   \n",
    "    print(\"shape of hankel_mats: \", hankel_mats.shape)\n",
    "    return dmd_cmp(hankel_mats, thrshhld, window, ndsets)"
   ]
  },
  {
   "cell_type": "code",
   "execution_count": null,
   "metadata": {},
   "outputs": [],
   "source": [
    "def path_reconstruction(evls, phim, window, initconds):\n",
    "    numics, dim = initconds.shape\n",
    "    nobsvs, ntstps = phim.shape\n",
    "    phimat = np.zeros((nobsvs, numics),dtype=np.complex128)\n",
    "    kmat = np.zeros((nobsvs,dim),dtype=np.complex128)\n",
    "    recon = np.zeros((dim, ntstps),dtype=np.float64)\n",
    "    \n",
    "    for jj in range(numics):\n",
    "        phimat[:,jj] = phim[:,jj*(window-1)]\n",
    "    \n",
    "    u, s, vh = np.linalg.svd(phimat.T, full_matrices=False)\n",
    "    initconds = np.diag(1./s) @ np.conj(u.T) @ initconds\n",
    "    for ll in range(dim):\n",
    "        kmat[:,ll] = np.conj(vh.T)@initconds[:,ll]\n",
    "        print(np.linalg.norm(vh@kmat[:,ll] - initconds[:,ll])/np.linalg.norm(initconds[:,ll]))\n",
    "        recon[ll,:] = np.real( kmat[:,ll].T @ phim )\n",
    "    return recon"
   ]
  },
  {
   "cell_type": "code",
   "execution_count": null,
   "metadata": {},
   "outputs": [],
   "source": [
    "def lorenz63_hankel(wndw, thrshhld=15, tf=20, t0=0, dt=.003, numIC=10, sigma=10., bval=8./3., rval=28.):\n",
    "    window = int((tf-t0)/dt - wndw)\n",
    "    x0 = np.array([5., 6., 7.])\n",
    "    initconds = np.zeros((numIC,3))\n",
    "    fhandle = lambda x: lorentz(x,sigma,rval,bval)\n",
    "    obs1 = lambda x: x[0]\n",
    "    obs = [obs1]\n",
    "    rawdata = [None]*numIC\n",
    "\n",
    "    for i in range(0,numIC):\n",
    "        initconds[i,:] = x0 + np.random.randn(3)\n",
    "        rawdata[i] = timestepper(initconds[i,:], t0, tf, dt, fhandle)\n",
    "    \n",
    "    evls, phim, kvecs = hankel_dmd(rawdata, obs, window, thrshhld)\n",
    "    recon = path_reconstruction(evls, phim, window, initconds)\n",
    "    return recon"
   ]
  },
  {
   "cell_type": "code",
   "execution_count": null,
   "metadata": {},
   "outputs": [],
   "source": [
    "for wndw in range(1,51):\n",
    "    recon = lorenz63_hankel(wndw, thrshhld=15)\n",
    "    fig = plt.figure(figsize=(10,7))\n",
    "    ax = plt.axes(projection=\"3d\")\n",
    "    ax.plot3D(recon[0,:], recon[1,:], recon[2,:])\n",
    "    plt.title(f\"Lorenz63: tau={wndw}, thrshhld=10\")\n",
    "    #plt.savefig(f\"wndw1_50/thresh_15/lorenz63_hankel{wndw}.png\")\n",
    "    #plt.close(fig)"
   ]
  },
  {
   "cell_type": "code",
   "execution_count": null,
   "metadata": {},
   "outputs": [],
   "source": []
  },
  {
   "cell_type": "code",
   "execution_count": null,
   "metadata": {},
   "outputs": [],
   "source": []
  }
 ],
 "metadata": {
  "kernelspec": {
   "display_name": "Python 3",
   "language": "python",
   "name": "python3"
  },
  "language_info": {
   "codemirror_mode": {
    "name": "ipython",
    "version": 3
   },
   "file_extension": ".py",
   "mimetype": "text/x-python",
   "name": "python",
   "nbconvert_exporter": "python",
   "pygments_lexer": "ipython3",
   "version": "3.7.4"
  }
 },
 "nbformat": 4,
 "nbformat_minor": 2
}
